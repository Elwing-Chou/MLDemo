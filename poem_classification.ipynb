{
 "cells": [
  {
   "cell_type": "code",
   "execution_count": 1,
   "metadata": {},
   "outputs": [
    {
     "data": {
      "text/html": [
       "<div>\n",
       "<style scoped>\n",
       "    .dataframe tbody tr th:only-of-type {\n",
       "        vertical-align: middle;\n",
       "    }\n",
       "\n",
       "    .dataframe tbody tr th {\n",
       "        vertical-align: top;\n",
       "    }\n",
       "\n",
       "    .dataframe thead th {\n",
       "        text-align: right;\n",
       "    }\n",
       "</style>\n",
       "<table border=\"1\" class=\"dataframe\">\n",
       "  <thead>\n",
       "    <tr style=\"text-align: right;\">\n",
       "      <th></th>\n",
       "      <th>作者</th>\n",
       "      <th>詩名</th>\n",
       "      <th>內容</th>\n",
       "    </tr>\n",
       "  </thead>\n",
       "  <tbody>\n",
       "    <tr>\n",
       "      <td>0</td>\n",
       "      <td>李白</td>\n",
       "      <td>菩薩蠻·平林漠漠煙如織</td>\n",
       "      <td>平林漠漠煙如織，寒山一帶傷心碧。\\r\\n暝色入高樓，有人樓上愁。玉階空佇立，宿鳥歸飛急。\\r...</td>\n",
       "    </tr>\n",
       "    <tr>\n",
       "      <td>1</td>\n",
       "      <td>李白</td>\n",
       "      <td>把酒問月</td>\n",
       "      <td>青天有月來幾時，我今停杯一問之：人攀明月不可得，月行卻與人相隨？皎如飛鏡臨丹闕，綠煙滅儘清輝...</td>\n",
       "    </tr>\n",
       "    <tr>\n",
       "      <td>2</td>\n",
       "      <td>李白</td>\n",
       "      <td>春思</td>\n",
       "      <td>燕草如碧絲，秦桑低綠枝。當君懷歸日，是妾斷腸時。春風不相識，何事入羅幃。</td>\n",
       "    </tr>\n",
       "    <tr>\n",
       "      <td>3</td>\n",
       "      <td>李白</td>\n",
       "      <td>春夜洛城聞笛</td>\n",
       "      <td>誰家玉笛暗飛聲，散入春風滿洛城。此夜曲中聞折柳，何人不起故園情。</td>\n",
       "    </tr>\n",
       "    <tr>\n",
       "      <td>4</td>\n",
       "      <td>李白</td>\n",
       "      <td>古風 其十九</td>\n",
       "      <td>西上蓮花山，迢迢見明星。(西上 一作：西嶽)素手把芙蓉，虛步躡太清。霓裳曳廣帶，飄拂升天行。...</td>\n",
       "    </tr>\n",
       "    <tr>\n",
       "      <td>...</td>\n",
       "      <td>...</td>\n",
       "      <td>...</td>\n",
       "      <td>...</td>\n",
       "    </tr>\n",
       "    <tr>\n",
       "      <td>2726</td>\n",
       "      <td>白居易</td>\n",
       "      <td>彆元九後詠所懷</td>\n",
       "      <td>零落桐葉雨，蕭條槿花風。悠悠早秋意，生此幽閒中。況與故人彆，中懷正無悰。勿雲不相送，心到青門...</td>\n",
       "    </tr>\n",
       "    <tr>\n",
       "      <td>2727</td>\n",
       "      <td>白居易</td>\n",
       "      <td>早秋曲江感懷</td>\n",
       "      <td>離離暑雲散，嫋嫋涼風起。池上秋又來，荷花半成子。朱顏易銷歇，白日無窮已。人壽不如山，年光急於...</td>\n",
       "    </tr>\n",
       "    <tr>\n",
       "      <td>2728</td>\n",
       "      <td>白居易</td>\n",
       "      <td>東墟晚歇　時退居渭村。</td>\n",
       "      <td>涼風冷露蕭索天，黃蒿紫菊荒涼田。繞塚秋花少顏色，細蟲小蝶飛翻翻。中有騰騰獨行者，手拄漁竿不騎...</td>\n",
       "    </tr>\n",
       "    <tr>\n",
       "      <td>2729</td>\n",
       "      <td>白居易</td>\n",
       "      <td>南秦雪</td>\n",
       "      <td>往歲曾為西邑吏，慣從駱口到南秦。\\r\\n三時雲冷多飛雪，二月山寒少有春。\\r\\n我思舊事猶惆...</td>\n",
       "    </tr>\n",
       "    <tr>\n",
       "      <td>2730</td>\n",
       "      <td>白居易</td>\n",
       "      <td>寄蘄州簟與元九因題六韻　時元九鰥居。</td>\n",
       "      <td>笛竹出蘄春，霜刀劈翠筠。織成雙鎖簟，寄與獨眠人。卷作筒中信，舒為席上珍。滑如鋪薤葉，冷似臥龍...</td>\n",
       "    </tr>\n",
       "  </tbody>\n",
       "</table>\n",
       "<p>2731 rows × 3 columns</p>\n",
       "</div>"
      ],
      "text/plain": [
       "       作者                  詩名  \\\n",
       "0      李白         菩薩蠻·平林漠漠煙如織   \n",
       "1      李白                把酒問月   \n",
       "2      李白                  春思   \n",
       "3      李白              春夜洛城聞笛   \n",
       "4      李白              古風 其十九   \n",
       "...   ...                 ...   \n",
       "2726  白居易             彆元九後詠所懷   \n",
       "2727  白居易              早秋曲江感懷   \n",
       "2728  白居易         東墟晚歇　時退居渭村。   \n",
       "2729  白居易                 南秦雪   \n",
       "2730  白居易  寄蘄州簟與元九因題六韻　時元九鰥居。   \n",
       "\n",
       "                                                     內容  \n",
       "0     平林漠漠煙如織，寒山一帶傷心碧。\\r\\n暝色入高樓，有人樓上愁。玉階空佇立，宿鳥歸飛急。\\r...  \n",
       "1     青天有月來幾時，我今停杯一問之：人攀明月不可得，月行卻與人相隨？皎如飛鏡臨丹闕，綠煙滅儘清輝...  \n",
       "2                  燕草如碧絲，秦桑低綠枝。當君懷歸日，是妾斷腸時。春風不相識，何事入羅幃。  \n",
       "3                      誰家玉笛暗飛聲，散入春風滿洛城。此夜曲中聞折柳，何人不起故園情。  \n",
       "4     西上蓮花山，迢迢見明星。(西上 一作：西嶽)素手把芙蓉，虛步躡太清。霓裳曳廣帶，飄拂升天行。...  \n",
       "...                                                 ...  \n",
       "2726  零落桐葉雨，蕭條槿花風。悠悠早秋意，生此幽閒中。況與故人彆，中懷正無悰。勿雲不相送，心到青門...  \n",
       "2727  離離暑雲散，嫋嫋涼風起。池上秋又來，荷花半成子。朱顏易銷歇，白日無窮已。人壽不如山，年光急於...  \n",
       "2728  涼風冷露蕭索天，黃蒿紫菊荒涼田。繞塚秋花少顏色，細蟲小蝶飛翻翻。中有騰騰獨行者，手拄漁竿不騎...  \n",
       "2729  往歲曾為西邑吏，慣從駱口到南秦。\\r\\n三時雲冷多飛雪，二月山寒少有春。\\r\\n我思舊事猶惆...  \n",
       "2730  笛竹出蘄春，霜刀劈翠筠。織成雙鎖簟，寄與獨眠人。卷作筒中信，舒為席上珍。滑如鋪薤葉，冷似臥龍...  \n",
       "\n",
       "[2731 rows x 3 columns]"
      ]
     },
     "execution_count": 1,
     "metadata": {},
     "output_type": "execute_result"
    }
   ],
   "source": [
    "import pandas as pd\n",
    "train_df = pd.read_csv(\"poem_train.csv\", encoding=\"utf-8\")\n",
    "test_df = pd.read_csv(\"poem_test.csv\", encoding=\"utf-8\")\n",
    "train_df"
   ]
  },
  {
   "cell_type": "code",
   "execution_count": 2,
   "metadata": {},
   "outputs": [
    {
     "data": {
      "text/plain": [
       "0     0\n",
       "1     0\n",
       "2     0\n",
       "3     0\n",
       "4     0\n",
       "5     0\n",
       "6     0\n",
       "7     0\n",
       "8     0\n",
       "9     0\n",
       "10    1\n",
       "11    1\n",
       "12    1\n",
       "13    1\n",
       "14    1\n",
       "15    1\n",
       "16    1\n",
       "17    1\n",
       "18    1\n",
       "19    1\n",
       "20    2\n",
       "21    2\n",
       "22    2\n",
       "23    2\n",
       "24    2\n",
       "25    2\n",
       "26    2\n",
       "27    2\n",
       "28    2\n",
       "29    2\n",
       "Name: 作者, dtype: int64"
      ]
     },
     "execution_count": 2,
     "metadata": {},
     "output_type": "execute_result"
    }
   ],
   "source": [
    "trans = {\"李白\":0, \"杜甫\":1, \"白居易\":2}\n",
    "y_train = train_df[\"作者\"].replace(trans)\n",
    "y_test = test_df[\"作者\"].replace(trans)\n",
    "y_test"
   ]
  },
  {
   "cell_type": "code",
   "execution_count": 3,
   "metadata": {},
   "outputs": [
    {
     "name": "stderr",
     "output_type": "stream",
     "text": [
      "Building prefix dict from the default dictionary ...\n",
      "Loading model from cache C:\\Users\\User\\AppData\\Local\\Temp\\jieba.cache\n",
      "Loading model cost 0.712 seconds.\n",
      "Prefix dict has been built succesfully.\n"
     ]
    },
    {
     "data": {
      "text/plain": [
       "'平林 漠漠 煙如織   寒山 一帶 傷心 碧       暝 色入 高樓   有人 樓上 愁  '"
      ]
     },
     "execution_count": 3,
     "metadata": {},
     "output_type": "execute_result"
    }
   ],
   "source": [
    "from jieba import cut\n",
    "s = \"平林漠漠煙如織，寒山一帶傷心碧。\\r\\n暝色入高樓，有人樓上愁。\"\n",
    "s = (s.replace(\"\\r\", \" \")\n",
    "      .replace(\"\\n\", \" \")\n",
    "      .replace(\"，\", \" \")\n",
    "      .replace(\"。\", \" \"))\n",
    "\" \".join(cut(s))"
   ]
  },
  {
   "cell_type": "code",
   "execution_count": 4,
   "metadata": {},
   "outputs": [
    {
     "data": {
      "text/plain": [
       "0      日照 香爐生 紫煙 ， 遙看 瀑布 掛 前川 。 飛流 直下 三千尺 ， 疑是 銀河 落九天 。\n",
       "1     朝辭 白帝 彩雲間 ， 千裡 江陵 一日 還 。 兩岸 猿聲 啼 不住 ， 輕舟 已過 萬 ...\n",
       "2      李白 乘舟 將欲行 ， 忽聞 岸上 踏歌 聲 。 桃花潭水 深 千尺 ， 不及 汪倫送 我情 。\n",
       "3       故人 西辭黃鶴樓 ， 煙花 三月 下揚州 。 孤帆 遠影 碧空 儘 ， 唯見長 江天 際流 。\n",
       "4                 危樓 高 百尺 ， 手可摘 星辰 。 不敢 高聲語 ， 恐驚 天上 人 。\n",
       "5                  床前 明月光 ， 疑是 地上 霜 。 舉頭 望明月 ， 低頭思 故鄉 。\n",
       "6     天門 中斷 楚江 開 ， 碧水 東流 至此 回 。 兩岸 青山 相對 出 ， 孤帆 一片 日...\n",
       "7               眾鳥 高 飛 儘 ， 孤雲獨 去 閒 。 相看 兩不厭 ， 隻 有 敬亭山 。\n",
       "8     鳳凰 台上 鳳凰遊 ， 鳳去 台空江 自流 。 吳宮 花草 埋 幽徑 ， 晉代 衣冠 成古丘...\n",
       "9     渡遠 荊門外 ， 來 從 楚國遊 。 山 隨 平野 儘 ， 江入 大荒 流 。 月 下 飛天...\n",
       "10    百川 日東流 ， 客去 亦 不息 。 我 生苦 漂 蕩 ， 何時 有 終極 。 讚 公 釋 ...\n",
       "11    細泉 兼 輕冰 ， 沮洳 棧道 濕 。 不辭 辛苦 行 ， 迫此 短景急 。 石門 雪雲隘 ...\n",
       "12    首路 栗亭 西 ， 尚想 鳳凰村 。 季冬 攜 童稚 ， 辛苦 赴 蜀門 。 南登 木皮 嶺...\n",
       "13    落日 在 簾 鉤 ， 溪邊 春事幽 。 芳菲 緣岸 圃 ， 樵 爨 倚灘 舟 。 啅 雀 爭...\n",
       "14    竇侍 禦 ， 驥 之子 ， 鳳之雛 。 年 未 三十 忠義俱 ， 骨鯁 絕代 無 。 炯 如...\n",
       "15    百草 競春華 ， 麗春應 最勝 。 少須 好 顏色 ， 多漫枝條 剩 。 紛紛 桃李 枝 ，...\n",
       "16    何年 顧虎頭 ， 滿壁畫 瀛州 。 赤 日 石林 氣 ， 青天 江海 流 。 錫飛常 近鶴 ...\n",
       "17    野寺 隱喬木 ， 山僧 高下 居 。 石門 日色異 ， 絳 氣橫 扶疏 。 窈窕 入風 磴 ...\n",
       "18    西川 有 杜鵑 ， 東川 無 杜鵑 。 涪萬 無 杜鵑 ， 雲安有 杜鵑 。 我 昔遊錦城 ...\n",
       "19    小奴 縛雞 向 市 賣 ， 雞 被縛 急 相 喧爭 。 家中 厭雞 食蟲 蟻 ， 不知 雞賣...\n",
       "20    管妙 弦 清歌 入 雲 ， 老人 合眼 醉醺醺 。 誠知 不及 當年 聽 ， 猶覺 聞時 勝...\n",
       "21    追歡 逐樂少 閒時 ， 補帖 平生 得事遲 。 何處 花開 曾後看 ？ 誰家 酒熟 不 先知...\n",
       "22    歲 陰生計 兩 蹉跎 ， 相顧 悠悠 醉且 歌 。 廚冷 難留 烏止 屋 ， 門閒 可 與 ...\n",
       "23    雨 砌 長 寒蕪 ， 風庭 落秋果 。 窗間 有 閒叟 ， 儘 日 看 書 坐 。 書中見 ...\n",
       "24    睡足 肢體 暢 ， 晨起 開 中堂 。 初旭泛 簾幕 ， 微風 拂 衣裳 。 二婢 扶 盥櫛...\n",
       "25    履道 西門 有 弊居 ， 池塘 竹樹繞 君廬 。 豪華肥壯 雖無分 ， 飽暖安閒 即 有 餘...\n",
       "26    昨日 複 今辰 ， 悠悠 七十 春 。 所經 多 故處 ， 卻 想 似 前身 。 散 秩優遊...\n",
       "27    不 與 老為期 ， 因何 兩鬢絲 ？ 才 應免 夭促 ， 便 已 及 衰 羸 。 昨夜 夢 ...\n",
       "28    暖床 斜 臥日 曛 腰 ， 一覺 閒眠 百病 銷 。 儘 日 一 飧 茶 兩 碗 ， 更無所...\n",
       "29    選石 鋪 新路 ， 安橋 壓古堤 。 似 從 銀漢下 ， 落傍玉 川西 。 影定 欄杆 倒 ...\n",
       "Name: 內容, dtype: object"
      ]
     },
     "execution_count": 4,
     "metadata": {},
     "output_type": "execute_result"
    }
   ],
   "source": [
    "# Series.apply(func)\n",
    "def poemcut(s):\n",
    "    s = (s.replace(\"\\r\", \" \")\n",
    "      .replace(\"\\n\", \" \"))\n",
    "    return \" \".join(cut(s))\n",
    "x_train = train_df[\"內容\"].apply(poemcut)\n",
    "x_test = test_df[\"內容\"].apply(poemcut)\n",
    "x_test"
   ]
  },
  {
   "cell_type": "code",
   "execution_count": 5,
   "metadata": {},
   "outputs": [],
   "source": [
    "from sklearn.feature_extraction.text import CountVectorizer\n",
    "vec = CountVectorizer()\n",
    "x_train_vec = vec.fit_transform(x_train)"
   ]
  },
  {
   "cell_type": "code",
   "execution_count": 11,
   "metadata": {},
   "outputs": [
    {
     "name": "stdout",
     "output_type": "stream",
     "text": [
      "輸入欄位->詞16053\n",
      "對應的詞: 平林\n"
     ]
    }
   ],
   "source": [
    "reverse = {v:k for k, v in vec.vocabulary_.items()}\n",
    "i = int(input(\"輸入欄位->詞\"))\n",
    "print(\"對應的詞:\", reverse[i])"
   ]
  },
  {
   "cell_type": "code",
   "execution_count": 7,
   "metadata": {
    "collapsed": true
   },
   "outputs": [
    {
     "name": "stdout",
     "output_type": "stream",
     "text": [
      "  (0, 16053)\t1\n",
      "  (0, 29006)\t1\n",
      "  (0, 30177)\t1\n",
      "  (0, 14002)\t1\n",
      "  (0, 139)\t1\n",
      "  (0, 4756)\t1\n",
      "  (0, 39345)\t1\n",
      "  (0, 51400)\t1\n",
      "  (0, 23289)\t1\n",
      "  (0, 25180)\t1\n",
      "  (0, 31382)\t1\n",
      "  (0, 3549)\t1\n",
      "  (0, 13846)\t1\n",
      "  (0, 50568)\t1\n",
      "  (0, 3797)\t1\n",
      "  (0, 26005)\t1\n",
      "  (0, 44987)\t2\n",
      "  (0, 34)\t1\n",
      "  (0, 33975)\t1\n",
      "  (1, 49338)\t1\n",
      "  (1, 16293)\t1\n",
      "  (1, 19165)\t1\n",
      "  (1, 4540)\t1\n",
      "  (1, 85)\t1\n",
      "  (1, 2776)\t1\n",
      "  :\t:\n",
      "  (2729, 8800)\t1\n",
      "  (2729, 6485)\t1\n",
      "  (2729, 3060)\t1\n",
      "  (2730, 25782)\t1\n",
      "  (2730, 6026)\t1\n",
      "  (2730, 36958)\t1\n",
      "  (2730, 15905)\t1\n",
      "  (2730, 44854)\t1\n",
      "  (2730, 29458)\t1\n",
      "  (2730, 2175)\t1\n",
      "  (2730, 31125)\t1\n",
      "  (2730, 40974)\t1\n",
      "  (2730, 35446)\t1\n",
      "  (2730, 49196)\t1\n",
      "  (2730, 6770)\t1\n",
      "  (2730, 48596)\t1\n",
      "  (2730, 7813)\t1\n",
      "  (2730, 1714)\t1\n",
      "  (2730, 39190)\t1\n",
      "  (2730, 28820)\t1\n",
      "  (2730, 38489)\t1\n",
      "  (2730, 28423)\t1\n",
      "  (2730, 51689)\t1\n",
      "  (2730, 8048)\t1\n",
      "  (2730, 23226)\t1\n"
     ]
    }
   ],
   "source": [
    "print(x_train_vec)"
   ]
  },
  {
   "cell_type": "code",
   "execution_count": 14,
   "metadata": {
    "collapsed": true
   },
   "outputs": [
    {
     "name": "stdout",
     "output_type": "stream",
     "text": [
      "  (0, 21652)\t1\n",
      "  (0, 29325)\t1\n",
      "  (0, 32404)\t1\n",
      "  (0, 33259)\t1\n",
      "  (0, 36144)\t1\n",
      "  (0, 40411)\t1\n",
      "  (0, 45388)\t1\n",
      "  (0, 46901)\t1\n",
      "  (0, 50588)\t1\n",
      "  (1, 201)\t1\n",
      "  (1, 1037)\t1\n",
      "  (1, 5321)\t1\n",
      "  (1, 7398)\t1\n",
      "  (1, 15739)\t1\n",
      "  (1, 23671)\t1\n",
      "  (1, 26945)\t1\n",
      "  (1, 30993)\t1\n",
      "  (1, 32734)\t1\n",
      "  (1, 44300)\t1\n",
      "  (1, 46477)\t1\n",
      "  (2, 1092)\t1\n",
      "  (2, 2160)\t1\n",
      "  (2, 7343)\t1\n",
      "  (2, 15312)\t1\n",
      "  (2, 17635)\t1\n",
      "  :\t:\n",
      "  (26, 18010)\t1\n",
      "  (26, 19510)\t1\n",
      "  (26, 19833)\t1\n",
      "  (26, 22302)\t1\n",
      "  (26, 23398)\t1\n",
      "  (26, 24210)\t1\n",
      "  (26, 29775)\t1\n",
      "  (26, 51930)\t1\n",
      "  (27, 16)\t1\n",
      "  (27, 1131)\t1\n",
      "  (27, 1361)\t1\n",
      "  (27, 3576)\t1\n",
      "  (27, 3638)\t1\n",
      "  (27, 5425)\t1\n",
      "  (27, 10217)\t1\n",
      "  (27, 12065)\t1\n",
      "  (27, 14735)\t1\n",
      "  (27, 21864)\t1\n",
      "  (27, 22290)\t1\n",
      "  (27, 22338)\t1\n",
      "  (27, 47253)\t1\n",
      "  (28, 415)\t1\n",
      "  (28, 21864)\t1\n",
      "  (28, 47455)\t1\n",
      "  (29, 50837)\t1\n"
     ]
    }
   ],
   "source": [
    "# !!!\n",
    "x_test_vec = vec.transform(x_test)\n",
    "print(x_test_vec)"
   ]
  },
  {
   "cell_type": "code",
   "execution_count": 15,
   "metadata": {},
   "outputs": [
    {
     "data": {
      "text/plain": [
       "MultinomialNB(alpha=1.0, class_prior=None, fit_prior=True)"
      ]
     },
     "execution_count": 15,
     "metadata": {},
     "output_type": "execute_result"
    }
   ],
   "source": [
    "from sklearn.naive_bayes import MultinomialNB\n",
    "clf = MultinomialNB()\n",
    "clf.fit(x_train_vec, y_train)"
   ]
  },
  {
   "cell_type": "code",
   "execution_count": 16,
   "metadata": {},
   "outputs": [
    {
     "data": {
      "text/plain": [
       "0.8"
      ]
     },
     "execution_count": 16,
     "metadata": {},
     "output_type": "execute_result"
    }
   ],
   "source": [
    "from sklearn.metrics import accuracy_score\n",
    "pre = clf.predict(x_test_vec)\n",
    "accuracy_score(pre, y_test)"
   ]
  },
  {
   "cell_type": "code",
   "execution_count": 21,
   "metadata": {},
   "outputs": [
    {
     "data": {
      "text/html": [
       "<div>\n",
       "<style scoped>\n",
       "    .dataframe tbody tr th:only-of-type {\n",
       "        vertical-align: middle;\n",
       "    }\n",
       "\n",
       "    .dataframe tbody tr th {\n",
       "        vertical-align: top;\n",
       "    }\n",
       "\n",
       "    .dataframe thead th {\n",
       "        text-align: right;\n",
       "    }\n",
       "</style>\n",
       "<table border=\"1\" class=\"dataframe\">\n",
       "  <thead>\n",
       "    <tr style=\"text-align: right;\">\n",
       "      <th></th>\n",
       "      <th>李白(預測)</th>\n",
       "      <th>杜甫(預測)</th>\n",
       "      <th>白居易(預測)</th>\n",
       "    </tr>\n",
       "  </thead>\n",
       "  <tbody>\n",
       "    <tr>\n",
       "      <td>李白(正確)</td>\n",
       "      <td>8</td>\n",
       "      <td>1</td>\n",
       "      <td>1</td>\n",
       "    </tr>\n",
       "    <tr>\n",
       "      <td>杜甫(正確)</td>\n",
       "      <td>1</td>\n",
       "      <td>8</td>\n",
       "      <td>1</td>\n",
       "    </tr>\n",
       "    <tr>\n",
       "      <td>白居易(正確)</td>\n",
       "      <td>1</td>\n",
       "      <td>1</td>\n",
       "      <td>8</td>\n",
       "    </tr>\n",
       "  </tbody>\n",
       "</table>\n",
       "</div>"
      ],
      "text/plain": [
       "         李白(預測)  杜甫(預測)  白居易(預測)\n",
       "李白(正確)        8       1        1\n",
       "杜甫(正確)        1       8        1\n",
       "白居易(正確)       1       1        8"
      ]
     },
     "execution_count": 21,
     "metadata": {},
     "output_type": "execute_result"
    }
   ],
   "source": [
    "from sklearn.metrics import confusion_matrix\n",
    "labels = [\"李白\", \"杜甫\", \"白居易\"]\n",
    "pd.DataFrame(confusion_matrix(y_test, pre),\n",
    "             columns=[(l + \"(預測)\") for l in labels],\n",
    "             index=[(l + \"(正確)\") for l in labels])"
   ]
  },
  {
   "cell_type": "code",
   "execution_count": 27,
   "metadata": {},
   "outputs": [
    {
     "name": "stdout",
     "output_type": "stream",
     "text": [
      "請寫一首詩!君不見黃河之水天上來，奔流到海不復回。 君不見高堂明鏡悲白髮，朝如青絲暮成雪。 人生得意須盡歡，莫使金樽空對月。 天生我材必有用，千金散盡還復來。\n",
      "應該是誰寫的? 李白\n"
     ]
    }
   ],
   "source": [
    "p = input(\"請寫一首詩!\")\n",
    "p = poemcut(p)\n",
    "p_vec = vec.transform([p])\n",
    "print(\"應該是誰寫的?\", labels[clf.predict(p_vec)[0]])"
   ]
  },
  {
   "cell_type": "code",
   "execution_count": null,
   "metadata": {},
   "outputs": [],
   "source": []
  }
 ],
 "metadata": {
  "kernelspec": {
   "display_name": "Python 3",
   "language": "python",
   "name": "python3"
  },
  "language_info": {
   "codemirror_mode": {
    "name": "ipython",
    "version": 3
   },
   "file_extension": ".py",
   "mimetype": "text/x-python",
   "name": "python",
   "nbconvert_exporter": "python",
   "pygments_lexer": "ipython3",
   "version": "3.7.4"
  }
 },
 "nbformat": 4,
 "nbformat_minor": 2
}
